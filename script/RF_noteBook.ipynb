{
 "cells": [
  {
   "cell_type": "code",
   "execution_count": 1,
   "id": "5d116f45",
   "metadata": {},
   "outputs": [
    {
     "name": "stderr",
     "output_type": "stream",
     "text": [
      "c:\\python\\py\\Lib\\site-packages\\tqdm\\auto.py:21: TqdmWarning: IProgress not found. Please update jupyter and ipywidgets. See https://ipywidgets.readthedocs.io/en/stable/user_install.html\n",
      "  from .autonotebook import tqdm as notebook_tqdm\n"
     ]
    },
    {
     "name": "stdout",
     "output_type": "stream",
     "text": [
      "Path to dataset files: C:\\Users\\Steve\\.cache\\kagglehub\\datasets\\olistbr\\brazilian-ecommerce\\versions\\2\n"
     ]
    }
   ],
   "source": [
    "import kagglehub\n",
    "\n",
    "# Download latest version\n",
    "path = kagglehub.dataset_download(\"olistbr/brazilian-ecommerce\")\n",
    "\n",
    "print(\"Path to dataset files:\", path)"
   ]
  },
  {
   "cell_type": "code",
   "execution_count": null,
   "id": "b8a2b557",
   "metadata": {},
   "outputs": [],
   "source": [
    "######importations des modules \n",
    "import pandas as pd\n",
    "import numpy as np\n",
    "import matplotlib.pyplot as plt\n",
    "import seaborn as sns\n",
    "\n",
    "from sklearn.model_selection import train_test_split\n",
    "from sklearn.preprocessing import StandardScaler, OneHotEncoder, LabelEncoder\n",
    "from sklearn.model_selection import GridSearchCV, RandomizedSearchCV\n",
    "\n",
    "from sklearn.metrics import mean_absolute_error, mean_squared_error, r2_score\n",
    "import joblib\n",
    "import warnings\n",
    "warnings.filterwarnings(\"ignore\")\n"
   ]
  },
  {
   "cell_type": "code",
   "execution_count": 3,
   "id": "4d04d968",
   "metadata": {},
   "outputs": [
    {
     "name": "stdout",
     "output_type": "stream",
     "text": [
      "🔹 Chargement des données...\n"
     ]
    }
   ],
   "source": [
    "### charge des données et fusion des datasets\n",
    "print(\"🔹 Chargement des données...\")\n",
    "\n",
    "def load_data(path):\n",
    "    #charger les données\n",
    "    customers = pd.read_csv(path + \"/olist_customers_dataset.csv\")\n",
    "    geolocation = pd.read_csv(path + \"/olist_geolocation_dataset.csv\")\n",
    "    order_items = pd.read_csv(path + \"/olist_order_items_dataset.csv\")\n",
    "    order_payments = pd.read_csv(path + \"/olist_order_payments_dataset.csv\")\n",
    "    order_reviews = pd.read_csv(path + \"/olist_order_reviews_dataset.csv\")\n",
    "    orders = pd.read_csv(path + \"/olist_orders_dataset.csv\")\n",
    "    products = pd.read_csv(path + \"/olist_products_dataset.csv\")\n",
    "    sellers = pd.read_csv(path + \"/olist_sellers_dataset.csv\")\n",
    "    products_translation = pd.read_csv(path + \"/product_category_name_translation.csv\")\n",
    "\n",
    "    \n",
    "\n",
    "    # Fusionner les datasets\n",
    "    df = orders.merge(customers, on='customer_id', how='left')\n",
    "    df = df.merge(order_items, on='order_id', how='left')\n",
    "    df = df.merge(order_payments, on='order_id', how='left')\n",
    "    df = df.merge(order_reviews, on='order_id', how='left')\n",
    "    df = df.merge(products, on='product_id', how='left')\n",
    "    df = df.merge(sellers, on='seller_id', how='left')\n",
    "    df = df.merge(products_translation, on='product_category_name', how='left')\n",
    "\n",
    "     # ⚠️ Gestion du dataset geolocation (moyenne par zip_code_prefix)\n",
    "    geo_mean = geolocation.groupby(\"geolocation_zip_code_prefix\")[[\"geolocation_lat\", \"geolocation_lng\"]].mean().reset_index()\n",
    "    df = df.merge(geo_mean, left_on=\"customer_zip_code_prefix\", right_on=\"geolocation_zip_code_prefix\", how=\"left\")\n",
    "    df = df.merge(geo_mean, left_on=\"seller_zip_code_prefix\", right_on=\"geolocation_zip_code_prefix\", how=\"left\", suffixes=('_customer', '_seller'))\n",
    "    \n",
    "    return df"
   ]
  },
  {
   "cell_type": "code",
   "execution_count": 4,
   "id": "60ae0b09",
   "metadata": {},
   "outputs": [
    {
     "name": "stdout",
     "output_type": "stream",
     "text": [
      "🔹 Données chargées avec succès.\n"
     ]
    },
    {
     "data": {
      "application/vnd.microsoft.datawrangler.viewer.v0+json": {
       "columns": [
        {
         "name": "index",
         "rawType": "int64",
         "type": "integer"
        },
        {
         "name": "order_id",
         "rawType": "object",
         "type": "string"
        },
        {
         "name": "customer_id",
         "rawType": "object",
         "type": "string"
        },
        {
         "name": "order_status",
         "rawType": "object",
         "type": "string"
        },
        {
         "name": "order_purchase_timestamp",
         "rawType": "object",
         "type": "string"
        },
        {
         "name": "order_approved_at",
         "rawType": "object",
         "type": "string"
        },
        {
         "name": "order_delivered_carrier_date",
         "rawType": "object",
         "type": "string"
        },
        {
         "name": "order_delivered_customer_date",
         "rawType": "object",
         "type": "string"
        },
        {
         "name": "order_estimated_delivery_date",
         "rawType": "object",
         "type": "string"
        },
        {
         "name": "customer_unique_id",
         "rawType": "object",
         "type": "string"
        },
        {
         "name": "customer_zip_code_prefix",
         "rawType": "int64",
         "type": "integer"
        },
        {
         "name": "customer_city",
         "rawType": "object",
         "type": "string"
        },
        {
         "name": "customer_state",
         "rawType": "object",
         "type": "string"
        },
        {
         "name": "order_item_id",
         "rawType": "float64",
         "type": "float"
        },
        {
         "name": "product_id",
         "rawType": "object",
         "type": "string"
        },
        {
         "name": "seller_id",
         "rawType": "object",
         "type": "string"
        },
        {
         "name": "shipping_limit_date",
         "rawType": "object",
         "type": "string"
        },
        {
         "name": "price",
         "rawType": "float64",
         "type": "float"
        },
        {
         "name": "freight_value",
         "rawType": "float64",
         "type": "float"
        },
        {
         "name": "payment_sequential",
         "rawType": "float64",
         "type": "float"
        },
        {
         "name": "payment_type",
         "rawType": "object",
         "type": "string"
        },
        {
         "name": "payment_installments",
         "rawType": "float64",
         "type": "float"
        },
        {
         "name": "payment_value",
         "rawType": "float64",
         "type": "float"
        },
        {
         "name": "review_id",
         "rawType": "object",
         "type": "string"
        },
        {
         "name": "review_score",
         "rawType": "float64",
         "type": "float"
        },
        {
         "name": "review_comment_title",
         "rawType": "object",
         "type": "unknown"
        },
        {
         "name": "review_comment_message",
         "rawType": "object",
         "type": "unknown"
        },
        {
         "name": "review_creation_date",
         "rawType": "object",
         "type": "string"
        },
        {
         "name": "review_answer_timestamp",
         "rawType": "object",
         "type": "string"
        },
        {
         "name": "product_category_name",
         "rawType": "object",
         "type": "string"
        },
        {
         "name": "product_name_lenght",
         "rawType": "float64",
         "type": "float"
        },
        {
         "name": "product_description_lenght",
         "rawType": "float64",
         "type": "float"
        },
        {
         "name": "product_photos_qty",
         "rawType": "float64",
         "type": "float"
        },
        {
         "name": "product_weight_g",
         "rawType": "float64",
         "type": "float"
        },
        {
         "name": "product_length_cm",
         "rawType": "float64",
         "type": "float"
        },
        {
         "name": "product_height_cm",
         "rawType": "float64",
         "type": "float"
        },
        {
         "name": "product_width_cm",
         "rawType": "float64",
         "type": "float"
        },
        {
         "name": "seller_zip_code_prefix",
         "rawType": "float64",
         "type": "float"
        },
        {
         "name": "seller_city",
         "rawType": "object",
         "type": "string"
        },
        {
         "name": "seller_state",
         "rawType": "object",
         "type": "string"
        },
        {
         "name": "product_category_name_english",
         "rawType": "object",
         "type": "string"
        },
        {
         "name": "geolocation_zip_code_prefix_customer",
         "rawType": "float64",
         "type": "float"
        },
        {
         "name": "geolocation_lat_customer",
         "rawType": "float64",
         "type": "float"
        },
        {
         "name": "geolocation_lng_customer",
         "rawType": "float64",
         "type": "float"
        },
        {
         "name": "geolocation_zip_code_prefix_seller",
         "rawType": "float64",
         "type": "float"
        },
        {
         "name": "geolocation_lat_seller",
         "rawType": "float64",
         "type": "float"
        },
        {
         "name": "geolocation_lng_seller",
         "rawType": "float64",
         "type": "float"
        }
       ],
       "ref": "1ee1bb86-5052-4a0e-a4a9-f995beeabf47",
       "rows": [
        [
         "0",
         "e481f51cbdc54678b7cc49136f2d6af7",
         "9ef432eb6251297304e76186b10a928d",
         "delivered",
         "2017-10-02 10:56:33",
         "2017-10-02 11:07:15",
         "2017-10-04 19:55:00",
         "2017-10-10 21:25:13",
         "2017-10-18 00:00:00",
         "7c396fd4830fd04220f754e42b4e5bff",
         "3149",
         "sao paulo",
         "SP",
         "1.0",
         "87285b34884572647811a353c7ac498a",
         "3504c0cb71d7fa48d967e0e4c94d59d9",
         "2017-10-06 11:07:15",
         "29.99",
         "8.72",
         "1.0",
         "credit_card",
         "1.0",
         "18.12",
         "a54f0611adc9ed256b57ede6b6eb5114",
         "4.0",
         null,
         "Não testei o produto ainda, mas ele veio correto e em boas condições. Apenas a caixa que veio bem amassada e danificada, o que ficará chato, pois se trata de um presente.",
         "2017-10-11 00:00:00",
         "2017-10-12 03:43:48",
         "utilidades_domesticas",
         "40.0",
         "268.0",
         "4.0",
         "500.0",
         "19.0",
         "8.0",
         "13.0",
         "9350.0",
         "maua",
         "SP",
         "housewares",
         "3149.0",
         "-23.57698293467452",
         "-46.587161274276774",
         "9350.0",
         "-23.680729252163324",
         "-46.444238272702385"
        ],
        [
         "1",
         "e481f51cbdc54678b7cc49136f2d6af7",
         "9ef432eb6251297304e76186b10a928d",
         "delivered",
         "2017-10-02 10:56:33",
         "2017-10-02 11:07:15",
         "2017-10-04 19:55:00",
         "2017-10-10 21:25:13",
         "2017-10-18 00:00:00",
         "7c396fd4830fd04220f754e42b4e5bff",
         "3149",
         "sao paulo",
         "SP",
         "1.0",
         "87285b34884572647811a353c7ac498a",
         "3504c0cb71d7fa48d967e0e4c94d59d9",
         "2017-10-06 11:07:15",
         "29.99",
         "8.72",
         "3.0",
         "voucher",
         "1.0",
         "2.0",
         "a54f0611adc9ed256b57ede6b6eb5114",
         "4.0",
         null,
         "Não testei o produto ainda, mas ele veio correto e em boas condições. Apenas a caixa que veio bem amassada e danificada, o que ficará chato, pois se trata de um presente.",
         "2017-10-11 00:00:00",
         "2017-10-12 03:43:48",
         "utilidades_domesticas",
         "40.0",
         "268.0",
         "4.0",
         "500.0",
         "19.0",
         "8.0",
         "13.0",
         "9350.0",
         "maua",
         "SP",
         "housewares",
         "3149.0",
         "-23.57698293467452",
         "-46.587161274276774",
         "9350.0",
         "-23.680729252163324",
         "-46.444238272702385"
        ],
        [
         "2",
         "e481f51cbdc54678b7cc49136f2d6af7",
         "9ef432eb6251297304e76186b10a928d",
         "delivered",
         "2017-10-02 10:56:33",
         "2017-10-02 11:07:15",
         "2017-10-04 19:55:00",
         "2017-10-10 21:25:13",
         "2017-10-18 00:00:00",
         "7c396fd4830fd04220f754e42b4e5bff",
         "3149",
         "sao paulo",
         "SP",
         "1.0",
         "87285b34884572647811a353c7ac498a",
         "3504c0cb71d7fa48d967e0e4c94d59d9",
         "2017-10-06 11:07:15",
         "29.99",
         "8.72",
         "2.0",
         "voucher",
         "1.0",
         "18.59",
         "a54f0611adc9ed256b57ede6b6eb5114",
         "4.0",
         null,
         "Não testei o produto ainda, mas ele veio correto e em boas condições. Apenas a caixa que veio bem amassada e danificada, o que ficará chato, pois se trata de um presente.",
         "2017-10-11 00:00:00",
         "2017-10-12 03:43:48",
         "utilidades_domesticas",
         "40.0",
         "268.0",
         "4.0",
         "500.0",
         "19.0",
         "8.0",
         "13.0",
         "9350.0",
         "maua",
         "SP",
         "housewares",
         "3149.0",
         "-23.57698293467452",
         "-46.587161274276774",
         "9350.0",
         "-23.680729252163324",
         "-46.444238272702385"
        ],
        [
         "3",
         "53cdb2fc8bc7dce0b6741e2150273451",
         "b0830fb4747a6c6d20dea0b8c802d7ef",
         "delivered",
         "2018-07-24 20:41:37",
         "2018-07-26 03:24:27",
         "2018-07-26 14:31:00",
         "2018-08-07 15:27:45",
         "2018-08-13 00:00:00",
         "af07308b275d755c9edb36a90c618231",
         "47813",
         "barreiras",
         "BA",
         "1.0",
         "595fac2a385ac33a80bd5114aec74eb8",
         "289cdb325fb7e7f891c38608bf9e0962",
         "2018-07-30 03:24:27",
         "118.7",
         "22.76",
         "1.0",
         "boleto",
         "1.0",
         "141.46",
         "8d5266042046a06655c8db133d120ba5",
         "4.0",
         "Muito boa a loja",
         "Muito bom o produto.",
         "2018-08-08 00:00:00",
         "2018-08-08 18:37:50",
         "perfumaria",
         "29.0",
         "178.0",
         "1.0",
         "400.0",
         "19.0",
         "13.0",
         "19.0",
         "31570.0",
         "belo horizonte",
         "SP",
         "perfumery",
         "47813.0",
         "-12.177924305463309",
         "-44.660710516494206",
         "31570.0",
         "-19.80768065786215",
         "-43.98042684085744"
        ],
        [
         "4",
         "47770eb9100c2d0c44946d9cf07ec65d",
         "41ce2a54c0b03bf3443c3d931a367089",
         "delivered",
         "2018-08-08 08:38:49",
         "2018-08-08 08:55:23",
         "2018-08-08 13:50:00",
         "2018-08-17 18:06:29",
         "2018-09-04 00:00:00",
         "3a653a41f6f9fc3d2a113cf8398680e8",
         "75265",
         "vianopolis",
         "GO",
         "1.0",
         "aa4383b373c6aca5d8797843e5594415",
         "4869f7a5dfa277a7dca6462dcf3b52b2",
         "2018-08-13 08:55:23",
         "159.9",
         "19.22",
         "1.0",
         "credit_card",
         "3.0",
         "179.12",
         "e73b67b67587f7644d5bd1a52deb1b01",
         "5.0",
         null,
         null,
         "2018-08-18 00:00:00",
         "2018-08-22 19:07:58",
         "automotivo",
         "46.0",
         "232.0",
         "1.0",
         "420.0",
         "24.0",
         "19.0",
         "21.0",
         "14840.0",
         "guariba",
         "SP",
         "auto",
         "75265.0",
         "-16.745149541882594",
         "-48.51478334802312",
         "14840.0",
         "-21.36350170979939",
         "-48.22960077888057"
        ]
       ],
       "shape": {
        "columns": 46,
        "rows": 5
       }
      },
      "text/html": [
       "<div>\n",
       "<style scoped>\n",
       "    .dataframe tbody tr th:only-of-type {\n",
       "        vertical-align: middle;\n",
       "    }\n",
       "\n",
       "    .dataframe tbody tr th {\n",
       "        vertical-align: top;\n",
       "    }\n",
       "\n",
       "    .dataframe thead th {\n",
       "        text-align: right;\n",
       "    }\n",
       "</style>\n",
       "<table border=\"1\" class=\"dataframe\">\n",
       "  <thead>\n",
       "    <tr style=\"text-align: right;\">\n",
       "      <th></th>\n",
       "      <th>order_id</th>\n",
       "      <th>customer_id</th>\n",
       "      <th>order_status</th>\n",
       "      <th>order_purchase_timestamp</th>\n",
       "      <th>order_approved_at</th>\n",
       "      <th>order_delivered_carrier_date</th>\n",
       "      <th>order_delivered_customer_date</th>\n",
       "      <th>order_estimated_delivery_date</th>\n",
       "      <th>customer_unique_id</th>\n",
       "      <th>customer_zip_code_prefix</th>\n",
       "      <th>...</th>\n",
       "      <th>seller_zip_code_prefix</th>\n",
       "      <th>seller_city</th>\n",
       "      <th>seller_state</th>\n",
       "      <th>product_category_name_english</th>\n",
       "      <th>geolocation_zip_code_prefix_customer</th>\n",
       "      <th>geolocation_lat_customer</th>\n",
       "      <th>geolocation_lng_customer</th>\n",
       "      <th>geolocation_zip_code_prefix_seller</th>\n",
       "      <th>geolocation_lat_seller</th>\n",
       "      <th>geolocation_lng_seller</th>\n",
       "    </tr>\n",
       "  </thead>\n",
       "  <tbody>\n",
       "    <tr>\n",
       "      <th>0</th>\n",
       "      <td>e481f51cbdc54678b7cc49136f2d6af7</td>\n",
       "      <td>9ef432eb6251297304e76186b10a928d</td>\n",
       "      <td>delivered</td>\n",
       "      <td>2017-10-02 10:56:33</td>\n",
       "      <td>2017-10-02 11:07:15</td>\n",
       "      <td>2017-10-04 19:55:00</td>\n",
       "      <td>2017-10-10 21:25:13</td>\n",
       "      <td>2017-10-18 00:00:00</td>\n",
       "      <td>7c396fd4830fd04220f754e42b4e5bff</td>\n",
       "      <td>3149</td>\n",
       "      <td>...</td>\n",
       "      <td>9350.0</td>\n",
       "      <td>maua</td>\n",
       "      <td>SP</td>\n",
       "      <td>housewares</td>\n",
       "      <td>3149.0</td>\n",
       "      <td>-23.576983</td>\n",
       "      <td>-46.587161</td>\n",
       "      <td>9350.0</td>\n",
       "      <td>-23.680729</td>\n",
       "      <td>-46.444238</td>\n",
       "    </tr>\n",
       "    <tr>\n",
       "      <th>1</th>\n",
       "      <td>e481f51cbdc54678b7cc49136f2d6af7</td>\n",
       "      <td>9ef432eb6251297304e76186b10a928d</td>\n",
       "      <td>delivered</td>\n",
       "      <td>2017-10-02 10:56:33</td>\n",
       "      <td>2017-10-02 11:07:15</td>\n",
       "      <td>2017-10-04 19:55:00</td>\n",
       "      <td>2017-10-10 21:25:13</td>\n",
       "      <td>2017-10-18 00:00:00</td>\n",
       "      <td>7c396fd4830fd04220f754e42b4e5bff</td>\n",
       "      <td>3149</td>\n",
       "      <td>...</td>\n",
       "      <td>9350.0</td>\n",
       "      <td>maua</td>\n",
       "      <td>SP</td>\n",
       "      <td>housewares</td>\n",
       "      <td>3149.0</td>\n",
       "      <td>-23.576983</td>\n",
       "      <td>-46.587161</td>\n",
       "      <td>9350.0</td>\n",
       "      <td>-23.680729</td>\n",
       "      <td>-46.444238</td>\n",
       "    </tr>\n",
       "    <tr>\n",
       "      <th>2</th>\n",
       "      <td>e481f51cbdc54678b7cc49136f2d6af7</td>\n",
       "      <td>9ef432eb6251297304e76186b10a928d</td>\n",
       "      <td>delivered</td>\n",
       "      <td>2017-10-02 10:56:33</td>\n",
       "      <td>2017-10-02 11:07:15</td>\n",
       "      <td>2017-10-04 19:55:00</td>\n",
       "      <td>2017-10-10 21:25:13</td>\n",
       "      <td>2017-10-18 00:00:00</td>\n",
       "      <td>7c396fd4830fd04220f754e42b4e5bff</td>\n",
       "      <td>3149</td>\n",
       "      <td>...</td>\n",
       "      <td>9350.0</td>\n",
       "      <td>maua</td>\n",
       "      <td>SP</td>\n",
       "      <td>housewares</td>\n",
       "      <td>3149.0</td>\n",
       "      <td>-23.576983</td>\n",
       "      <td>-46.587161</td>\n",
       "      <td>9350.0</td>\n",
       "      <td>-23.680729</td>\n",
       "      <td>-46.444238</td>\n",
       "    </tr>\n",
       "    <tr>\n",
       "      <th>3</th>\n",
       "      <td>53cdb2fc8bc7dce0b6741e2150273451</td>\n",
       "      <td>b0830fb4747a6c6d20dea0b8c802d7ef</td>\n",
       "      <td>delivered</td>\n",
       "      <td>2018-07-24 20:41:37</td>\n",
       "      <td>2018-07-26 03:24:27</td>\n",
       "      <td>2018-07-26 14:31:00</td>\n",
       "      <td>2018-08-07 15:27:45</td>\n",
       "      <td>2018-08-13 00:00:00</td>\n",
       "      <td>af07308b275d755c9edb36a90c618231</td>\n",
       "      <td>47813</td>\n",
       "      <td>...</td>\n",
       "      <td>31570.0</td>\n",
       "      <td>belo horizonte</td>\n",
       "      <td>SP</td>\n",
       "      <td>perfumery</td>\n",
       "      <td>47813.0</td>\n",
       "      <td>-12.177924</td>\n",
       "      <td>-44.660711</td>\n",
       "      <td>31570.0</td>\n",
       "      <td>-19.807681</td>\n",
       "      <td>-43.980427</td>\n",
       "    </tr>\n",
       "    <tr>\n",
       "      <th>4</th>\n",
       "      <td>47770eb9100c2d0c44946d9cf07ec65d</td>\n",
       "      <td>41ce2a54c0b03bf3443c3d931a367089</td>\n",
       "      <td>delivered</td>\n",
       "      <td>2018-08-08 08:38:49</td>\n",
       "      <td>2018-08-08 08:55:23</td>\n",
       "      <td>2018-08-08 13:50:00</td>\n",
       "      <td>2018-08-17 18:06:29</td>\n",
       "      <td>2018-09-04 00:00:00</td>\n",
       "      <td>3a653a41f6f9fc3d2a113cf8398680e8</td>\n",
       "      <td>75265</td>\n",
       "      <td>...</td>\n",
       "      <td>14840.0</td>\n",
       "      <td>guariba</td>\n",
       "      <td>SP</td>\n",
       "      <td>auto</td>\n",
       "      <td>75265.0</td>\n",
       "      <td>-16.745150</td>\n",
       "      <td>-48.514783</td>\n",
       "      <td>14840.0</td>\n",
       "      <td>-21.363502</td>\n",
       "      <td>-48.229601</td>\n",
       "    </tr>\n",
       "  </tbody>\n",
       "</table>\n",
       "<p>5 rows × 46 columns</p>\n",
       "</div>"
      ],
      "text/plain": [
       "                           order_id                       customer_id  \\\n",
       "0  e481f51cbdc54678b7cc49136f2d6af7  9ef432eb6251297304e76186b10a928d   \n",
       "1  e481f51cbdc54678b7cc49136f2d6af7  9ef432eb6251297304e76186b10a928d   \n",
       "2  e481f51cbdc54678b7cc49136f2d6af7  9ef432eb6251297304e76186b10a928d   \n",
       "3  53cdb2fc8bc7dce0b6741e2150273451  b0830fb4747a6c6d20dea0b8c802d7ef   \n",
       "4  47770eb9100c2d0c44946d9cf07ec65d  41ce2a54c0b03bf3443c3d931a367089   \n",
       "\n",
       "  order_status order_purchase_timestamp    order_approved_at  \\\n",
       "0    delivered      2017-10-02 10:56:33  2017-10-02 11:07:15   \n",
       "1    delivered      2017-10-02 10:56:33  2017-10-02 11:07:15   \n",
       "2    delivered      2017-10-02 10:56:33  2017-10-02 11:07:15   \n",
       "3    delivered      2018-07-24 20:41:37  2018-07-26 03:24:27   \n",
       "4    delivered      2018-08-08 08:38:49  2018-08-08 08:55:23   \n",
       "\n",
       "  order_delivered_carrier_date order_delivered_customer_date  \\\n",
       "0          2017-10-04 19:55:00           2017-10-10 21:25:13   \n",
       "1          2017-10-04 19:55:00           2017-10-10 21:25:13   \n",
       "2          2017-10-04 19:55:00           2017-10-10 21:25:13   \n",
       "3          2018-07-26 14:31:00           2018-08-07 15:27:45   \n",
       "4          2018-08-08 13:50:00           2018-08-17 18:06:29   \n",
       "\n",
       "  order_estimated_delivery_date                customer_unique_id  \\\n",
       "0           2017-10-18 00:00:00  7c396fd4830fd04220f754e42b4e5bff   \n",
       "1           2017-10-18 00:00:00  7c396fd4830fd04220f754e42b4e5bff   \n",
       "2           2017-10-18 00:00:00  7c396fd4830fd04220f754e42b4e5bff   \n",
       "3           2018-08-13 00:00:00  af07308b275d755c9edb36a90c618231   \n",
       "4           2018-09-04 00:00:00  3a653a41f6f9fc3d2a113cf8398680e8   \n",
       "\n",
       "   customer_zip_code_prefix  ... seller_zip_code_prefix     seller_city  \\\n",
       "0                      3149  ...                 9350.0            maua   \n",
       "1                      3149  ...                 9350.0            maua   \n",
       "2                      3149  ...                 9350.0            maua   \n",
       "3                     47813  ...                31570.0  belo horizonte   \n",
       "4                     75265  ...                14840.0         guariba   \n",
       "\n",
       "   seller_state product_category_name_english  \\\n",
       "0            SP                    housewares   \n",
       "1            SP                    housewares   \n",
       "2            SP                    housewares   \n",
       "3            SP                     perfumery   \n",
       "4            SP                          auto   \n",
       "\n",
       "  geolocation_zip_code_prefix_customer geolocation_lat_customer  \\\n",
       "0                               3149.0               -23.576983   \n",
       "1                               3149.0               -23.576983   \n",
       "2                               3149.0               -23.576983   \n",
       "3                              47813.0               -12.177924   \n",
       "4                              75265.0               -16.745150   \n",
       "\n",
       "   geolocation_lng_customer  geolocation_zip_code_prefix_seller  \\\n",
       "0                -46.587161                              9350.0   \n",
       "1                -46.587161                              9350.0   \n",
       "2                -46.587161                              9350.0   \n",
       "3                -44.660711                             31570.0   \n",
       "4                -48.514783                             14840.0   \n",
       "\n",
       "   geolocation_lat_seller geolocation_lng_seller  \n",
       "0              -23.680729             -46.444238  \n",
       "1              -23.680729             -46.444238  \n",
       "2              -23.680729             -46.444238  \n",
       "3              -19.807681             -43.980427  \n",
       "4              -21.363502             -48.229601  \n",
       "\n",
       "[5 rows x 46 columns]"
      ]
     },
     "execution_count": 4,
     "metadata": {},
     "output_type": "execute_result"
    }
   ],
   "source": [
    "# affi geolacation des données\n",
    "df = load_data(path)\n",
    "print(\"🔹 Données chargées avec succès.\")\n",
    "# Afficher les premières lignes du DataFrame\n",
    "df.head()\n"
   ]
  },
  {
   "cell_type": "code",
   "execution_count": 5,
   "id": "d82110fe",
   "metadata": {},
   "outputs": [
    {
     "data": {
      "application/vnd.microsoft.datawrangler.viewer.v0+json": {
       "columns": [
        {
         "name": "index",
         "rawType": "object",
         "type": "string"
        },
        {
         "name": "0",
         "rawType": "int64",
         "type": "integer"
        }
       ],
       "ref": "7ef7600d-87a6-4d5d-bebb-87bdae443ce6",
       "rows": [
        [
         "order_id",
         "0"
        ],
        [
         "customer_id",
         "0"
        ],
        [
         "order_status",
         "0"
        ],
        [
         "order_purchase_timestamp",
         "0"
        ],
        [
         "order_approved_at",
         "177"
        ],
        [
         "order_delivered_carrier_date",
         "2086"
        ],
        [
         "order_delivered_customer_date",
         "3421"
        ],
        [
         "order_estimated_delivery_date",
         "0"
        ],
        [
         "customer_unique_id",
         "0"
        ],
        [
         "customer_zip_code_prefix",
         "0"
        ],
        [
         "customer_city",
         "0"
        ],
        [
         "customer_state",
         "0"
        ],
        [
         "order_item_id",
         "833"
        ],
        [
         "product_id",
         "833"
        ],
        [
         "seller_id",
         "833"
        ],
        [
         "shipping_limit_date",
         "833"
        ],
        [
         "price",
         "833"
        ],
        [
         "freight_value",
         "833"
        ],
        [
         "payment_sequential",
         "3"
        ],
        [
         "payment_type",
         "3"
        ],
        [
         "payment_installments",
         "3"
        ],
        [
         "payment_value",
         "3"
        ],
        [
         "review_id",
         "997"
        ],
        [
         "review_score",
         "997"
        ],
        [
         "review_comment_title",
         "105154"
        ],
        [
         "review_comment_message",
         "68898"
        ],
        [
         "review_creation_date",
         "997"
        ],
        [
         "review_answer_timestamp",
         "997"
        ],
        [
         "product_category_name",
         "2542"
        ],
        [
         "product_name_lenght",
         "2542"
        ],
        [
         "product_description_lenght",
         "2542"
        ],
        [
         "product_photos_qty",
         "2542"
        ],
        [
         "product_weight_g",
         "853"
        ],
        [
         "product_length_cm",
         "853"
        ],
        [
         "product_height_cm",
         "853"
        ],
        [
         "product_width_cm",
         "853"
        ],
        [
         "seller_zip_code_prefix",
         "833"
        ],
        [
         "seller_city",
         "833"
        ],
        [
         "seller_state",
         "833"
        ],
        [
         "product_category_name_english",
         "2567"
        ],
        [
         "geolocation_zip_code_prefix_customer",
         "322"
        ],
        [
         "geolocation_lat_customer",
         "322"
        ],
        [
         "geolocation_lng_customer",
         "322"
        ],
        [
         "geolocation_zip_code_prefix_seller",
         "1098"
        ],
        [
         "geolocation_lat_seller",
         "1098"
        ],
        [
         "geolocation_lng_seller",
         "1098"
        ]
       ],
       "shape": {
        "columns": 1,
        "rows": 46
       }
      },
      "text/plain": [
       "order_id                                     0\n",
       "customer_id                                  0\n",
       "order_status                                 0\n",
       "order_purchase_timestamp                     0\n",
       "order_approved_at                          177\n",
       "order_delivered_carrier_date              2086\n",
       "order_delivered_customer_date             3421\n",
       "order_estimated_delivery_date                0\n",
       "customer_unique_id                           0\n",
       "customer_zip_code_prefix                     0\n",
       "customer_city                                0\n",
       "customer_state                               0\n",
       "order_item_id                              833\n",
       "product_id                                 833\n",
       "seller_id                                  833\n",
       "shipping_limit_date                        833\n",
       "price                                      833\n",
       "freight_value                              833\n",
       "payment_sequential                           3\n",
       "payment_type                                 3\n",
       "payment_installments                         3\n",
       "payment_value                                3\n",
       "review_id                                  997\n",
       "review_score                               997\n",
       "review_comment_title                    105154\n",
       "review_comment_message                   68898\n",
       "review_creation_date                       997\n",
       "review_answer_timestamp                    997\n",
       "product_category_name                     2542\n",
       "product_name_lenght                       2542\n",
       "product_description_lenght                2542\n",
       "product_photos_qty                        2542\n",
       "product_weight_g                           853\n",
       "product_length_cm                          853\n",
       "product_height_cm                          853\n",
       "product_width_cm                           853\n",
       "seller_zip_code_prefix                     833\n",
       "seller_city                                833\n",
       "seller_state                               833\n",
       "product_category_name_english             2567\n",
       "geolocation_zip_code_prefix_customer       322\n",
       "geolocation_lat_customer                   322\n",
       "geolocation_lng_customer                   322\n",
       "geolocation_zip_code_prefix_seller        1098\n",
       "geolocation_lat_seller                    1098\n",
       "geolocation_lng_seller                    1098\n",
       "dtype: int64"
      ]
     },
     "execution_count": 5,
     "metadata": {},
     "output_type": "execute_result"
    }
   ],
   "source": [
    "df.isnull().sum()  # Vérifier les données manquantes\n"
   ]
  },
  {
   "cell_type": "code",
   "execution_count": 6,
   "id": "be2beb23",
   "metadata": {},
   "outputs": [],
   "source": [
    "def cleaning_data(df):\n",
    "    # Supprimer toutes les lignes avec des valeurs manquantes dans le DataFrame\n",
    "    df.dropna(inplace=True)\n",
    "    # Supprimer les doublons\n",
    "    df.drop_duplicates(inplace=True)\n",
    "    \n",
    "\n",
    "    # unif\n",
    "    return df"
   ]
  },
  {
   "cell_type": "code",
   "execution_count": 7,
   "id": "a7cc38d6",
   "metadata": {},
   "outputs": [
    {
     "data": {
      "application/vnd.microsoft.datawrangler.viewer.v0+json": {
       "columns": [
        {
         "name": "index",
         "rawType": "object",
         "type": "string"
        },
        {
         "name": "0",
         "rawType": "int64",
         "type": "integer"
        }
       ],
       "ref": "ad46c222-54f3-4cc8-bd56-9aa988fdb292",
       "rows": [
        [
         "order_id",
         "11530"
        ],
        [
         "customer_id",
         "11530"
        ],
        [
         "order_status",
         "11530"
        ],
        [
         "order_purchase_timestamp",
         "11530"
        ],
        [
         "order_approved_at",
         "11530"
        ],
        [
         "order_delivered_carrier_date",
         "11530"
        ],
        [
         "order_delivered_customer_date",
         "11530"
        ],
        [
         "order_estimated_delivery_date",
         "11530"
        ],
        [
         "customer_unique_id",
         "11530"
        ],
        [
         "customer_zip_code_prefix",
         "11530"
        ],
        [
         "customer_city",
         "11530"
        ],
        [
         "customer_state",
         "11530"
        ],
        [
         "order_item_id",
         "11530"
        ],
        [
         "product_id",
         "11530"
        ],
        [
         "seller_id",
         "11530"
        ],
        [
         "shipping_limit_date",
         "11530"
        ],
        [
         "price",
         "11530"
        ],
        [
         "freight_value",
         "11530"
        ],
        [
         "payment_sequential",
         "11530"
        ],
        [
         "payment_type",
         "11530"
        ],
        [
         "payment_installments",
         "11530"
        ],
        [
         "payment_value",
         "11530"
        ],
        [
         "review_id",
         "11530"
        ],
        [
         "review_score",
         "11530"
        ],
        [
         "review_comment_title",
         "11530"
        ],
        [
         "review_comment_message",
         "11530"
        ],
        [
         "review_creation_date",
         "11530"
        ],
        [
         "review_answer_timestamp",
         "11530"
        ],
        [
         "product_category_name",
         "11530"
        ],
        [
         "product_name_lenght",
         "11530"
        ],
        [
         "product_description_lenght",
         "11530"
        ],
        [
         "product_photos_qty",
         "11530"
        ],
        [
         "product_weight_g",
         "11530"
        ],
        [
         "product_length_cm",
         "11530"
        ],
        [
         "product_height_cm",
         "11530"
        ],
        [
         "product_width_cm",
         "11530"
        ],
        [
         "seller_zip_code_prefix",
         "11530"
        ],
        [
         "seller_city",
         "11530"
        ],
        [
         "seller_state",
         "11530"
        ],
        [
         "product_category_name_english",
         "11530"
        ],
        [
         "geolocation_zip_code_prefix_customer",
         "11530"
        ],
        [
         "geolocation_lat_customer",
         "11530"
        ],
        [
         "geolocation_lng_customer",
         "11530"
        ],
        [
         "geolocation_zip_code_prefix_seller",
         "11530"
        ],
        [
         "geolocation_lat_seller",
         "11530"
        ],
        [
         "geolocation_lng_seller",
         "11530"
        ]
       ],
       "shape": {
        "columns": 1,
        "rows": 46
       }
      },
      "text/plain": [
       "order_id                                11530\n",
       "customer_id                             11530\n",
       "order_status                            11530\n",
       "order_purchase_timestamp                11530\n",
       "order_approved_at                       11530\n",
       "order_delivered_carrier_date            11530\n",
       "order_delivered_customer_date           11530\n",
       "order_estimated_delivery_date           11530\n",
       "customer_unique_id                      11530\n",
       "customer_zip_code_prefix                11530\n",
       "customer_city                           11530\n",
       "customer_state                          11530\n",
       "order_item_id                           11530\n",
       "product_id                              11530\n",
       "seller_id                               11530\n",
       "shipping_limit_date                     11530\n",
       "price                                   11530\n",
       "freight_value                           11530\n",
       "payment_sequential                      11530\n",
       "payment_type                            11530\n",
       "payment_installments                    11530\n",
       "payment_value                           11530\n",
       "review_id                               11530\n",
       "review_score                            11530\n",
       "review_comment_title                    11530\n",
       "review_comment_message                  11530\n",
       "review_creation_date                    11530\n",
       "review_answer_timestamp                 11530\n",
       "product_category_name                   11530\n",
       "product_name_lenght                     11530\n",
       "product_description_lenght              11530\n",
       "product_photos_qty                      11530\n",
       "product_weight_g                        11530\n",
       "product_length_cm                       11530\n",
       "product_height_cm                       11530\n",
       "product_width_cm                        11530\n",
       "seller_zip_code_prefix                  11530\n",
       "seller_city                             11530\n",
       "seller_state                            11530\n",
       "product_category_name_english           11530\n",
       "geolocation_zip_code_prefix_customer    11530\n",
       "geolocation_lat_customer                11530\n",
       "geolocation_lng_customer                11530\n",
       "geolocation_zip_code_prefix_seller      11530\n",
       "geolocation_lat_seller                  11530\n",
       "geolocation_lng_seller                  11530\n",
       "dtype: int64"
      ]
     },
     "execution_count": 7,
     "metadata": {},
     "output_type": "execute_result"
    }
   ],
   "source": [
    "df = cleaning_data(df)\n",
    "df.count() # Vérifier à nouveau les données manquantes"
   ]
  },
  {
   "cell_type": "code",
   "execution_count": null,
   "id": "9116c841",
   "metadata": {},
   "outputs": [],
   "source": [
    "from geopy.distance import geodesic\n",
    "\n",
    "def build_dataframe(df):\n",
    "    # 1. Convertir les dates\n",
    "    date_col = [\n",
    "        \"order_purchase_timestamp\",\n",
    "        \"order_approved_at\",\n",
    "        \"order_delivered_carrier_date\",\n",
    "        \"order_delivered_customer_date\",\n",
    "        \"order_estimated_delivery_date\"\n",
    "    ]\n",
    "    for col in date_col:\n",
    "        df[col] = pd.to_datetime(df[col], errors='coerce')\n",
    "\n",
    "    # délai de livraison (jours)\n",
    "    df[\"delivery_time\"] = (df[\"order_delivered_customer_date\"] - df[\"order_purchase_timestamp\"]).dt.days\n",
    "\n",
    "    # 2. Order_items → prix total et nb d’articles\n",
    "    df[\"total_price\"] = df.groupby(\"order_id\")[\"price\"].transform(\"sum\")\n",
    "    df[\"total_items\"] = df.groupby(\"order_id\")[\"order_item_id\"].transform(\"count\")\n",
    "\n",
    "    # 3. Order_payments → montant total et nb paiements\n",
    "    df[\"total_payment\"] = df.groupby(\"order_id\")[\"payment_value\"].transform(\"sum\")\n",
    "    df[\"payment_count\"] = df.groupby(\"order_id\")[\"payment_type\"].transform(\"count\") # nombre de paiements\n",
    "\n",
    "    # 4. Reviews → note moyenne\n",
    "    df[\"average_review_score\"] = df.groupby(\"order_id\")[\"review_score\"].transform(\"mean\")\n",
    "\n",
    "    # 5. Produits → catégorie\n",
    "    df[\"product_category_name\"] = df[\"product_category_name\"].astype(\"category\")\n",
    "\n",
    "    # 6. Distance client-vendeur\n",
    "    def safe_distance(row): \n",
    "        if pd.isna(row[\"geolocation_lat_customer\"]) or pd.isna(row[\"geolocation_lng_customer\"]) \\\n",
    "        or pd.isna(row[\"geolocation_lat_seller\"]) or pd.isna(row[\"geolocation_lng_seller\"]):\n",
    "            return None\n",
    "        return geodesic(\n",
    "            (row[\"geolocation_lat_customer\"], row[\"geolocation_lng_customer\"]),\n",
    "            (row[\"geolocation_lat_seller\"], row[\"geolocation_lng_seller\"])\n",
    "        ).km\n",
    "\n",
    "    df[\"distance\"] = df.apply(safe_distance, axis=1)\n",
    "\n",
    "    # 7. Créer la target\n",
    "    df[\"satisfaction\"] = (df[\"review_score\"] >= 4).astype(int)\n",
    "\n",
    "    # 8. Supprimer les colonnes inutiles\n",
    "    columns_to_drop = [\n",
    "        \"order_id\", \"customer_id\", \"order_item_id\", \"payment_sequential\", \n",
    "        \"payment_installments\", \"review_id\", \"product_id\",\n",
    "        \"seller_id\", \"product_category_name_english\",\n",
    "        \"order_purchase_timestamp\", \"order_approved_at\",\n",
    "        \"order_delivered_carrier_date\", \"order_delivered_customer_date\",\n",
    "        \"order_estimated_delivery_date\",\n",
    "        \"review_comment_title\", \"review_comment_message\",\n",
    "        \"review_creation_date\", \"review_answer_timestamp\",\n",
    "        \"geolocation_lat_customer\", \"geolocation_lng_customer\",\n",
    "        \"geolocation_lat_seller\", \"geolocation_lng_seller\"\n",
    "    ]\n",
    "    df.drop(columns=columns_to_drop, inplace=True, errors=\"ignore\")\n",
    "\n",
    "    # 9. Sélection des features et de la target\n",
    "    features = [\"total_price\", \"total_items\", \"total_payment\", \n",
    "                \"payment_count\", \"distance\", \"delivery_time\"]\n",
    "    \n",
    "    X = df[features]\n",
    "    y = df[\"satisfaction\"]\n",
    "\n",
    "    return X, y\n"
   ]
  },
  {
   "cell_type": "code",
   "execution_count": 9,
   "id": "ea1ee7e6",
   "metadata": {},
   "outputs": [],
   "source": [
    "# afficher les données traitées\n",
    "X, y = build_dataframe(df)\n",
    "\n"
   ]
  },
  {
   "cell_type": "code",
   "execution_count": 10,
   "id": "811c3437",
   "metadata": {},
   "outputs": [],
   "source": [
    "X_train, X_test, y_train, y_test = train_test_split(X, y, test_size=0.2, random_state=42 , shuffle=True)"
   ]
  },
  {
   "cell_type": "code",
   "execution_count": 11,
   "id": "991a3b40",
   "metadata": {},
   "outputs": [
    {
     "data": {
      "application/vnd.microsoft.datawrangler.viewer.v0+json": {
       "columns": [
        {
         "name": "index",
         "rawType": "int64",
         "type": "integer"
        },
        {
         "name": "total_price",
         "rawType": "float64",
         "type": "float"
        },
        {
         "name": "total_items",
         "rawType": "int64",
         "type": "integer"
        },
        {
         "name": "total_payment",
         "rawType": "float64",
         "type": "float"
        },
        {
         "name": "payment_count",
         "rawType": "int64",
         "type": "integer"
        },
        {
         "name": "distance",
         "rawType": "float64",
         "type": "float"
        },
        {
         "name": "delivery_time",
         "rawType": "int64",
         "type": "integer"
        }
       ],
       "ref": "b78c724d-5c05-4b21-a6c8-b63533d83d18",
       "rows": [
        [
         "16930",
         "169.75",
         "2",
         "469.44",
         "2",
         "592.0431877555704",
         "12"
        ],
        [
         "73623",
         "199.0",
         "1",
         "209.37",
         "1",
         "300.3342999028112",
         "18"
        ],
        [
         "64770",
         "320.0",
         "4",
         "93.92",
         "4",
         "361.8772326751875",
         "11"
        ],
        [
         "73364",
         "19.9",
         "1",
         "43.18",
         "1",
         "739.78629668749",
         "6"
        ],
        [
         "18984",
         "169.99",
         "1",
         "193.98",
         "1",
         "478.0864148602265",
         "11"
        ],
        [
         "118645",
         "60.0",
         "1",
         "78.3",
         "1",
         "692.8641465150544",
         "10"
        ],
        [
         "105716",
         "18.9",
         "1",
         "32.37",
         "1",
         "489.15409849169515",
         "17"
        ],
        [
         "99096",
         "17.0",
         "1",
         "29.79",
         "1",
         "300.3568120533763",
         "10"
        ],
        [
         "115006",
         "185.0",
         "2",
         "440.58",
         "2",
         "348.3012751688407",
         "10"
        ],
        [
         "8201",
         "99.98",
         "1",
         "133.54",
         "1",
         "224.58769655703023",
         "19"
        ],
        [
         "34406",
         "279.0",
         "1",
         "293.39",
         "1",
         "354.9817907261718",
         "6"
        ],
        [
         "12134",
         "293.9",
         "2",
         "639.98",
         "2",
         "419.29753693307117",
         "6"
        ],
        [
         "16181",
         "570.0",
         "3",
         "1868.97",
         "3",
         "251.75190959659895",
         "10"
        ],
        [
         "36872",
         "57.99",
         "1",
         "69.14",
         "1",
         "18.07759255745277",
         "12"
        ],
        [
         "69592",
         "59.8",
         "2",
         "171.08",
         "2",
         "97.08969430923946",
         "5"
        ],
        [
         "37061",
         "130.0",
         "1",
         "143.21",
         "1",
         "10.31487603496716",
         "5"
        ],
        [
         "71277",
         "27.99",
         "1",
         "46.22",
         "1",
         "859.8059874784434",
         "10"
        ],
        [
         "78860",
         "199.8",
         "2",
         "147.64999999999998",
         "2",
         "733.535956890458",
         "14"
        ],
        [
         "63976",
         "64.0",
         "2",
         "193.64",
         "2",
         "325.00235097156354",
         "5"
        ],
        [
         "111830",
         "44.0",
         "1",
         "58.44",
         "1",
         "404.1297281205458",
         "10"
        ],
        [
         "51364",
         "84.0",
         "2",
         "207.98",
         "2",
         "737.3661932441006",
         "8"
        ],
        [
         "22221",
         "56.0",
         "1",
         "79.11",
         "1",
         "2098.7507154153895",
         "9"
        ],
        [
         "56278",
         "87.89",
         "2",
         "227.74",
         "2",
         "115.13951583739387",
         "5"
        ],
        [
         "38578",
         "39.9",
         "1",
         "53.61",
         "1",
         "293.7988713303986",
         "12"
        ],
        [
         "69445",
         "185.9",
         "1",
         "204.11",
         "1",
         "237.36151045281184",
         "7"
        ],
        [
         "77608",
         "116.9",
         "1",
         "135.82",
         "1",
         "479.5419520843008",
         "3"
        ],
        [
         "43124",
         "166.95",
         "3",
         "108.39",
         "3",
         "2210.283018017404",
         "11"
        ],
        [
         "54025",
         "168.0",
         "1",
         "180.91",
         "1",
         "8.990587190216264",
         "5"
        ],
        [
         "48598",
         "144.0",
         "2",
         "84.42999999999999",
         "2",
         "19.45417413341691",
         "3"
        ],
        [
         "45556",
         "244.99",
         "1",
         "259.01",
         "1",
         "142.55582552052937",
         "3"
        ],
        [
         "57428",
         "389.87",
         "13",
         "6317.22",
         "13",
         "19.453854691069772",
         "11"
        ],
        [
         "41179",
         "50.0",
         "1",
         "66.54",
         "1",
         "306.0863010474131",
         "5"
        ],
        [
         "58546",
         "69.9",
         "1",
         "83.75",
         "1",
         "151.05609714378733",
         "11"
        ],
        [
         "42343",
         "399.99",
         "1",
         "416.78",
         "1",
         "49.517029465120785",
         "2"
        ],
        [
         "87925",
         "69.99",
         "1",
         "88.58",
         "1",
         "565.0183368022974",
         "5"
        ],
        [
         "35432",
         "119.85",
         "1",
         "143.84",
         "1",
         "1121.6755074482178",
         "15"
        ],
        [
         "89108",
         "439.9",
         "1",
         "464.58",
         "1",
         "100.85119187825227",
         "7"
        ],
        [
         "46237",
         "569.0",
         "1",
         "623.48",
         "1",
         "2180.1454034898484",
         "22"
        ],
        [
         "18086",
         "182.4",
         "2",
         "411.8",
         "2",
         "489.51637192448186",
         "3"
        ],
        [
         "40894",
         "64.0",
         "2",
         "157.92",
         "2",
         "25.597589274362285",
         "2"
        ],
        [
         "77432",
         "215.0",
         "1",
         "233.42",
         "1",
         "109.76654986036768",
         "6"
        ],
        [
         "42689",
         "24.5",
         "1",
         "46.6",
         "1",
         "1194.738224707398",
         "9"
        ],
        [
         "77897",
         "39.0",
         "1",
         "58.32",
         "1",
         "536.8599852823113",
         "21"
        ],
        [
         "19381",
         "65.0",
         "1",
         "80.56",
         "1",
         "354.3212833841937",
         "6"
        ],
        [
         "47450",
         "39.9",
         "1",
         "58.13",
         "1",
         "507.3270335336858",
         "11"
        ],
        [
         "22762",
         "23.9",
         "1",
         "42.18",
         "1",
         "697.8867343787524",
         "11"
        ],
        [
         "100545",
         "26.49",
         "1",
         "41.78",
         "1",
         "735.7017635510667",
         "8"
        ],
        [
         "51514",
         "170.0",
         "2",
         "432.36",
         "2",
         "1715.87129866246",
         "35"
        ],
        [
         "100850",
         "23.6",
         "4",
         "212.64",
         "4",
         "21.19361546424626",
         "4"
        ],
        [
         "28162",
         "89.99",
         "1",
         "108.2",
         "1",
         "782.5472085957708",
         "7"
        ]
       ],
       "shape": {
        "columns": 6,
        "rows": 9224
       }
      },
      "text/html": [
       "<div>\n",
       "<style scoped>\n",
       "    .dataframe tbody tr th:only-of-type {\n",
       "        vertical-align: middle;\n",
       "    }\n",
       "\n",
       "    .dataframe tbody tr th {\n",
       "        vertical-align: top;\n",
       "    }\n",
       "\n",
       "    .dataframe thead th {\n",
       "        text-align: right;\n",
       "    }\n",
       "</style>\n",
       "<table border=\"1\" class=\"dataframe\">\n",
       "  <thead>\n",
       "    <tr style=\"text-align: right;\">\n",
       "      <th></th>\n",
       "      <th>total_price</th>\n",
       "      <th>total_items</th>\n",
       "      <th>total_payment</th>\n",
       "      <th>payment_count</th>\n",
       "      <th>distance</th>\n",
       "      <th>delivery_time</th>\n",
       "    </tr>\n",
       "  </thead>\n",
       "  <tbody>\n",
       "    <tr>\n",
       "      <th>16930</th>\n",
       "      <td>169.75</td>\n",
       "      <td>2</td>\n",
       "      <td>469.44</td>\n",
       "      <td>2</td>\n",
       "      <td>592.043188</td>\n",
       "      <td>12</td>\n",
       "    </tr>\n",
       "    <tr>\n",
       "      <th>73623</th>\n",
       "      <td>199.00</td>\n",
       "      <td>1</td>\n",
       "      <td>209.37</td>\n",
       "      <td>1</td>\n",
       "      <td>300.334300</td>\n",
       "      <td>18</td>\n",
       "    </tr>\n",
       "    <tr>\n",
       "      <th>64770</th>\n",
       "      <td>320.00</td>\n",
       "      <td>4</td>\n",
       "      <td>93.92</td>\n",
       "      <td>4</td>\n",
       "      <td>361.877233</td>\n",
       "      <td>11</td>\n",
       "    </tr>\n",
       "    <tr>\n",
       "      <th>73364</th>\n",
       "      <td>19.90</td>\n",
       "      <td>1</td>\n",
       "      <td>43.18</td>\n",
       "      <td>1</td>\n",
       "      <td>739.786297</td>\n",
       "      <td>6</td>\n",
       "    </tr>\n",
       "    <tr>\n",
       "      <th>18984</th>\n",
       "      <td>169.99</td>\n",
       "      <td>1</td>\n",
       "      <td>193.98</td>\n",
       "      <td>1</td>\n",
       "      <td>478.086415</td>\n",
       "      <td>11</td>\n",
       "    </tr>\n",
       "    <tr>\n",
       "      <th>...</th>\n",
       "      <td>...</td>\n",
       "      <td>...</td>\n",
       "      <td>...</td>\n",
       "      <td>...</td>\n",
       "      <td>...</td>\n",
       "      <td>...</td>\n",
       "    </tr>\n",
       "    <tr>\n",
       "      <th>116300</th>\n",
       "      <td>299.99</td>\n",
       "      <td>1</td>\n",
       "      <td>339.67</td>\n",
       "      <td>1</td>\n",
       "      <td>7.854652</td>\n",
       "      <td>6</td>\n",
       "    </tr>\n",
       "    <tr>\n",
       "      <th>54496</th>\n",
       "      <td>192.90</td>\n",
       "      <td>1</td>\n",
       "      <td>212.05</td>\n",
       "      <td>1</td>\n",
       "      <td>341.736118</td>\n",
       "      <td>6</td>\n",
       "    </tr>\n",
       "    <tr>\n",
       "      <th>56470</th>\n",
       "      <td>144.90</td>\n",
       "      <td>1</td>\n",
       "      <td>161.01</td>\n",
       "      <td>1</td>\n",
       "      <td>361.491657</td>\n",
       "      <td>4</td>\n",
       "    </tr>\n",
       "    <tr>\n",
       "      <th>9003</th>\n",
       "      <td>105.00</td>\n",
       "      <td>1</td>\n",
       "      <td>114.67</td>\n",
       "      <td>1</td>\n",
       "      <td>75.766503</td>\n",
       "      <td>3</td>\n",
       "    </tr>\n",
       "    <tr>\n",
       "      <th>75561</th>\n",
       "      <td>219.65</td>\n",
       "      <td>3</td>\n",
       "      <td>830.34</td>\n",
       "      <td>3</td>\n",
       "      <td>464.345275</td>\n",
       "      <td>5</td>\n",
       "    </tr>\n",
       "  </tbody>\n",
       "</table>\n",
       "<p>9224 rows × 6 columns</p>\n",
       "</div>"
      ],
      "text/plain": [
       "        total_price  total_items  total_payment  payment_count    distance  \\\n",
       "16930        169.75            2         469.44              2  592.043188   \n",
       "73623        199.00            1         209.37              1  300.334300   \n",
       "64770        320.00            4          93.92              4  361.877233   \n",
       "73364         19.90            1          43.18              1  739.786297   \n",
       "18984        169.99            1         193.98              1  478.086415   \n",
       "...             ...          ...            ...            ...         ...   \n",
       "116300       299.99            1         339.67              1    7.854652   \n",
       "54496        192.90            1         212.05              1  341.736118   \n",
       "56470        144.90            1         161.01              1  361.491657   \n",
       "9003         105.00            1         114.67              1   75.766503   \n",
       "75561        219.65            3         830.34              3  464.345275   \n",
       "\n",
       "        delivery_time  \n",
       "16930              12  \n",
       "73623              18  \n",
       "64770              11  \n",
       "73364               6  \n",
       "18984              11  \n",
       "...               ...  \n",
       "116300              6  \n",
       "54496               6  \n",
       "56470               4  \n",
       "9003                3  \n",
       "75561               5  \n",
       "\n",
       "[9224 rows x 6 columns]"
      ]
     },
     "execution_count": 11,
     "metadata": {},
     "output_type": "execute_result"
    }
   ],
   "source": [
    "X_train"
   ]
  },
  {
   "cell_type": "code",
   "execution_count": 12,
   "id": "5249f3f1",
   "metadata": {},
   "outputs": [],
   "source": [
    "### pipline de traitement des données\n",
    "from sklearn.pipeline import Pipeline\n",
    "from sklearn.compose import ColumnTransformer\n",
    "from sklearn.impute import SimpleImputer\n",
    "\n",
    "def create_pipeline():\n",
    "    # Définir les colonnes numériques et catégorielles\n",
    "    numeric_features = [\"total_price\", \"total_items\", \"total_payment\", \n",
    "                        \"payment_count\", \"distance\", \"delivery_time\"]\n",
    "    \n",
    "\n",
    "    # Créer le préprocesseur pour les colonnes numériques\n",
    "    numeric_transformer = Pipeline(steps=[\n",
    "        (\"imputer\", SimpleImputer(strategy=\"mean\")),\n",
    "        (\"scaler\", StandardScaler())\n",
    "    ])\n",
    "\n",
    "    # utiliser ColumnTransformer pour appliquer les transformations\n",
    "    preprocessor = ColumnTransformer(   \n",
    "        transformers=[\n",
    "            (\"num\", numeric_transformer, numeric_features)\n",
    "        ],\n",
    "        remainder=\"passthrough\"  # Conserver les colonnes non spécifiées\n",
    "    )\n",
    "\n",
    "    return preprocessor"
   ]
  },
  {
   "cell_type": "code",
   "execution_count": 13,
   "id": "e7a828d7",
   "metadata": {},
   "outputs": [],
   "source": [
    "## pipeline de traitement des données\n",
    "def model_pipeline(model):\n",
    "    # Créer le pipeline de traitement des données\n",
    "    preprocessor = create_pipeline()\n",
    "\n",
    "    # Créer le pipeline complet avec le modèle\n",
    "    pipeline = Pipeline(steps=[\n",
    "        (\"preprocessor\", preprocessor),\n",
    "        (\"model\", model)\n",
    "    ])\n",
    "\n",
    "    return pipeline"
   ]
  },
  {
   "cell_type": "code",
   "execution_count": null,
   "id": "77e4b2bf",
   "metadata": {},
   "outputs": [
    {
     "name": "stdout",
     "output_type": "stream",
     "text": [
      "Accuracy: 0.8061578490893322\n",
      "\n",
      "Classification report:\n",
      "               precision    recall  f1-score   support\n",
      "\n",
      "           0       0.76      0.54      0.63       711\n",
      "           1       0.82      0.92      0.87      1595\n",
      "\n",
      "    accuracy                           0.81      2306\n",
      "   macro avg       0.79      0.73      0.75      2306\n",
      "weighted avg       0.80      0.81      0.80      2306\n",
      "\n"
     ]
    }
   ],
   "source": [
    "# random forest classifier\n",
    "from sklearn.ensemble import RandomForestClassifier\n",
    "from sklearn.metrics import accuracy_score, classification_report\n",
    "\n",
    "# 1. Définir le modèle\n",
    "model = RandomForestClassifier(n_estimators=100, random_state=42)\n",
    "\n",
    "# 2. Créer le pipeline\n",
    "pipeline = model_pipeline(model)\n",
    "\n",
    "# 3. Entraîner le pipeline sur le train\n",
    "pipeline.fit(X_train, y_train)\n",
    "\n",
    "# 4. Prédire sur le test\n",
    "y_pred = pipeline.predict(X_test)\n",
    "\n",
    "# 5. Évaluer la performance\n",
    "accuracy = accuracy_score(y_test, y_pred)\n",
    "print(\"Accuracy:\", accuracy)\n",
    "print(\"\\nClassification report:\\n\", classification_report(y_test, y_pred))\n"
   ]
  },
  {
   "cell_type": "code",
   "execution_count": null,
   "id": "8292d3c8",
   "metadata": {},
   "outputs": [],
   "source": []
  },
  {
   "cell_type": "code",
   "execution_count": 15,
   "id": "c1ef17cd",
   "metadata": {},
   "outputs": [
    {
     "name": "stdout",
     "output_type": "stream",
     "text": [
      "Accuracy: 0.7983521248915871\n",
      "\n",
      "Classification report:\n",
      "               precision    recall  f1-score   support\n",
      "\n",
      "           0       0.77      0.49      0.60       711\n",
      "           1       0.81      0.93      0.87      1595\n",
      "\n",
      "    accuracy                           0.80      2306\n",
      "   macro avg       0.79      0.71      0.73      2306\n",
      "weighted avg       0.79      0.80      0.78      2306\n",
      "\n"
     ]
    }
   ],
   "source": [
    "# xgboost regressor\n",
    "from xgboost import XGBClassifier\n",
    "\n",
    "model = XGBClassifier(use_label_encoder=False, eval_metric='logloss')\n",
    "pipeline = model_pipeline(model)\n",
    "pipeline.fit(X_train, y_train)\n",
    "y_pred = pipeline.predict(X_test)\n",
    "\n",
    "# Afficher les résultats\n",
    "accuracy = accuracy_score(y_test, y_pred)\n",
    "print(\"Accuracy:\", accuracy)\n",
    "print(\"\\nClassification report:\\n\", classification_report(y_test, y_pred))\n"
   ]
  },
  {
   "cell_type": "code",
   "execution_count": 16,
   "id": "40fe0b9d",
   "metadata": {},
   "outputs": [
    {
     "data": {
      "text/plain": [
       "['rf_pipeline.pkl']"
      ]
     },
     "execution_count": 16,
     "metadata": {},
     "output_type": "execute_result"
    }
   ],
   "source": [
    "# enregistrement du modèle\n",
    "import joblib\n",
    "joblib.dump(pipeline, \"rf_pipeline.pkl\")"
   ]
  },
  {
   "cell_type": "code",
   "execution_count": null,
   "id": "0e70821f",
   "metadata": {},
   "outputs": [
    {
     "name": "stdout",
     "output_type": "stream",
     "text": [
      "Predictions: [1]\n"
     ]
    }
   ],
   "source": [
    "\n",
    "# Charger le pipeline \n",
    "predict= joblib.load(\"rf_pipeline.pkl\")\n",
    "\n",
    "# Nouvelles données\n",
    "new_data = pd.DataFrame({\n",
    "    \"total_price\": [150.0],\n",
    "    \"total_items\": [3],\n",
    "    \"total_payment\": [155.0],\n",
    "    \"payment_count\": [1],\n",
    "    \"distance\": [100.5],\n",
    "    \"delivery_time\": [117]\n",
    "})\n",
    "\n",
    "# Faire la prédiction\n",
    "predictions = pipeline.predict(new_data)\n",
    "\n",
    "print(\"Predictions:\", predictions)\n",
    "\n"
   ]
  },
  {
   "cell_type": "code",
   "execution_count": null,
   "id": "6b744239",
   "metadata": {},
   "outputs": [],
   "source": []
  }
 ],
 "metadata": {
  "kernelspec": {
   "display_name": "Python 3",
   "language": "python",
   "name": "python3"
  },
  "language_info": {
   "codemirror_mode": {
    "name": "ipython",
    "version": 3
   },
   "file_extension": ".py",
   "mimetype": "text/x-python",
   "name": "python",
   "nbconvert_exporter": "python",
   "pygments_lexer": "ipython3",
   "version": "3.12.8"
  }
 },
 "nbformat": 4,
 "nbformat_minor": 5
}
